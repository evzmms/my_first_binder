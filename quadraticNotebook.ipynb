{
 "cells": [
  {
   "cell_type": "markdown",
   "id": "peaceful-surname",
   "metadata": {},
   "source": [
    "# Guided Programming 1"
   ]
  },
  {
   "cell_type": "markdown",
   "id": "sized-recorder",
   "metadata": {},
   "source": [
    "In this notebook we will be tackling a problem we know how to solve mathematically but using Python.\n",
    "\n",
    "We will write a \"Python script\" to solve the general quadratic equation\n",
    "\n",
    "$$ax^2 + bx + c =0$$\n",
    "\n",
    "for an unknown $x$ given three user-defined constants $a$, $b$, and $c$.  \n",
    "\n",
    "We will need to be able to\n",
    "\n",
    "$\\qquad$ $\\phantom{\\textrm{ii}}$i) Read in the user-defined coefficients $a$, $b$, and $c$\n",
    "\n",
    "$\\qquad$ $\\phantom{\\textrm{i}}$ii) Calculate the two solutions, $x_1$ and $x_2$\n",
    "\n",
    "$\\qquad$ iii) Calculate our errors to demonstrate the accuracy of our method\n",
    "\n",
    "### Reading in user supplied data\n",
    "\n",
    "To read in user-supplied data we use the `input()` function\n"
   ]
  },
  {
   "cell_type": "code",
   "execution_count": null,
   "id": "amateur-vocabulary",
   "metadata": {},
   "outputs": [],
   "source": [
    "a = input('a = ')"
   ]
  },
  {
   "cell_type": "markdown",
   "id": "behavioral-consolidation",
   "metadata": {},
   "source": [
    "The interpreter writes out the text between the quotations to the screen and waits for our input.  The input we provide is stored in the variable $\\texttt{a}$.\n",
    "\n",
    "We need to be careful here that our code understands that we have inputted a number.  Let's check what happens when we try and multiply our \"number\", $a$, by 2."
   ]
  },
  {
   "cell_type": "code",
   "execution_count": null,
   "id": "ranking-ending",
   "metadata": {},
   "outputs": [],
   "source": [
    "a * 2"
   ]
  },
  {
   "cell_type": "markdown",
   "id": "grateful-attachment",
   "metadata": {},
   "source": [
    "What has gone wrong?\n",
    "\n",
    "We didn't tell Python that the input was going to be a number, and to be safe Python has assumed we have inputted a word (a \"string\").  Go back and enter a letter or a word when prompted and see what happens.\n",
    "\n",
    "To force Python to interpret our input as a number we can tell Python to turn our input into either an integer (which is unnecessarily restrictive in this case) or a decimal (these are known as \"floating points\")\n"
   ]
  },
  {
   "cell_type": "code",
   "execution_count": null,
   "id": "important-sauce",
   "metadata": {},
   "outputs": [],
   "source": [
    "a = float(input('a = '));"
   ]
  },
  {
   "cell_type": "markdown",
   "id": "elementary-borough",
   "metadata": {},
   "source": [
    "Now when we multiply our coefficient a by 2 we get the desired output"
   ]
  },
  {
   "cell_type": "code",
   "execution_count": null,
   "id": "asian-bobby",
   "metadata": {},
   "outputs": [],
   "source": [
    "a * 2"
   ]
  },
  {
   "cell_type": "markdown",
   "id": "traditional-chapter",
   "metadata": {},
   "source": [
    "So now we can complete the lines of code required to read in our three coefficients"
   ]
  },
  {
   "cell_type": "code",
   "execution_count": null,
   "id": "marine-communist",
   "metadata": {},
   "outputs": [],
   "source": [
    "a = float(input('a = '));\n",
    "b = float(input('b = '));\n",
    "c = float(input('c = '));"
   ]
  },
  {
   "cell_type": "markdown",
   "id": "united-salem",
   "metadata": {},
   "source": [
    "### Calculating the solution\n",
    "\n",
    "We can now use \"the quadratic formula\" to calculate our solutions\n",
    "\n",
    "$$x = \\frac{-b \\pm \\sqrt{b^2 - 4ac}}{2a}$$\n",
    "\n",
    "One way of doing this is just to write the formula out explicitly.  We will need to take the square root of the discriminant and so we need to `import` the \"numpy\" package.  This \"numpy\" package contains common mathematical functions, such as sine, cosine, square root etc.  The package is usually imported `as np` so that `np.sqrt` calculates the square root, rather than having to type out `numpy.sqrt` each time.\n"
   ]
  },
  {
   "cell_type": "code",
   "execution_count": null,
   "id": "headed-protein",
   "metadata": {},
   "outputs": [],
   "source": [
    "import numpy as np\n",
    "x1 = (-b + np.sqrt(b**2 - 4*a*c))/2*a\n",
    "x2 = (-b - np.sqrt(b**2 - 4*a*c))/2*a"
   ]
  },
  {
   "cell_type": "markdown",
   "id": "acute-bennett",
   "metadata": {},
   "source": [
    "Let's check our code with a quadratic we know the answer to\n",
    "\n",
    "$$2x^2 - 7x + 6 = \\left(x - 2\\right)\\left(2x - 3\\right) = 0$$\n",
    "\n",
    "has solutions $x_1 = 2$, $x_2 = \\frac{3}{2}$. Using $a = 2$, $b = -7$, $c = 6$ (you need to go back a couple of cells to where the constants $a$, $b$, and $c$ are entered in order to input this data), the output from our code is\n"
   ]
  },
  {
   "cell_type": "code",
   "execution_count": null,
   "id": "nervous-adolescent",
   "metadata": {},
   "outputs": [],
   "source": [
    "print(x1)\n",
    "print(x2)"
   ]
  },
  {
   "cell_type": "markdown",
   "id": "biological-college",
   "metadata": {},
   "source": [
    "We have made a mistake inputting the formula!\n",
    "\n",
    "Can you see where we have gone wrong?\n",
    "\n",
    "The Python interpreter will apply BIDMAS to any formula you enter.  Here you can see we want to divide by $2a$, but what we have done is divide by 2, and then multiply by $a$.  You will only catch this mistake if you have tried the code with an initial coefficient $a$ that is not equal to 1.  Let us correct our code using brackets to force the interpreter to calculate quantities in the desired order.\n"
   ]
  },
  {
   "cell_type": "code",
   "execution_count": null,
   "id": "associate-springer",
   "metadata": {},
   "outputs": [],
   "source": [
    "import numpy as np\n",
    "x1 = (-b + np.sqrt(b**2 - 4*a*c))/(2*a)\n",
    "x2 = (-b - np.sqrt(b**2 - 4*a*c))/(2*a)\n",
    "print(x1)\n",
    "print(x2)"
   ]
  },
  {
   "cell_type": "markdown",
   "id": "hazardous-template",
   "metadata": {},
   "source": [
    "### Error checking\n",
    "\n",
    "Finally, we can calculate our errors.  We should have found values of $x$ for which $ax^2 + bx + c = 0$, so if we substitute our answers into the quadratic equation we should get an answer of 0.  If we don't get exactly zero then we have some degree of error attached to our solution.\n"
   ]
  },
  {
   "cell_type": "code",
   "execution_count": null,
   "id": "sunrise-greene",
   "metadata": {},
   "outputs": [],
   "source": [
    "print('Solution 1 error: ', a*x1**2 + b*x1 + c)\n",
    "print('Solution 2 error: ', a*x2**2 + b*x2 + c)"
   ]
  },
  {
   "cell_type": "markdown",
   "id": "acknowledged-priest",
   "metadata": {},
   "source": [
    "$\\bullet$ Try running the code again with $a = 1$, $b = 0$, $c = -2$.\n",
    "\n",
    "$\\phantom{\\bullet}$ What has happened?  Why do we not get zero error now?  Isn't the quadratic formula exact?\n",
    "\n",
    "$\\bullet$ Try running the code again with $a = 0$, $b = 1$, $c = -2$.\n",
    "\n",
    "$\\phantom{\\bullet}$ What has happened?  Why does the code not work anymore?\n",
    "\n",
    "$\\bullet$ Try running the code again with $a = 1$, $b = 0$, $c = 2$.\n",
    "\n",
    "$\\phantom{\\bullet}$ What has happened?  Why does the code not work anymore?"
   ]
  }
 ],
 "metadata": {
  "kernelspec": {
   "display_name": "Python 3",
   "language": "python",
   "name": "python3"
  },
  "language_info": {
   "codemirror_mode": {
    "name": "ipython",
    "version": 3
   },
   "file_extension": ".py",
   "mimetype": "text/x-python",
   "name": "python",
   "nbconvert_exporter": "python",
   "pygments_lexer": "ipython3",
   "version": "3.9.2"
  }
 },
 "nbformat": 4,
 "nbformat_minor": 5
}
